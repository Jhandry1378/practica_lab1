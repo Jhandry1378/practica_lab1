{
  "nbformat": 4,
  "nbformat_minor": 0,
  "metadata": {
    "colab": {
      "name": "lab1_SVM.ipynb",
      "provenance": []
    },
    "kernelspec": {
      "name": "python3",
      "display_name": "Python 3"
    },
    "language_info": {
      "name": "python"
    }
  },
  "cells": [
    {
      "cell_type": "code",
      "execution_count": null,
      "metadata": {
        "id": "T8BlMe78qQX6"
      },
      "outputs": [],
      "source": [
        "def basededatos():\n",
        "  '''Base de datos '''\n",
        "#https://archive.ics.uci.edu/ml/datasets/wine\n",
        "print(basededatos.__doc__)\n"
      ]
    }
  ]
}