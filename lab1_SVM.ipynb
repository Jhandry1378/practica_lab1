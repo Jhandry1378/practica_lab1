{
  "nbformat": 4,
  "nbformat_minor": 0,
  "metadata": {
    "colab": {
      "name": "lab1_SVM.ipynb",
      "provenance": []
    },
    "kernelspec": {
      "name": "python3",
      "display_name": "Python 3"
    },
    "language_info": {
      "name": "python"
    }
  },
  "cells": [
    {
      "cell_type": "code",
      "execution_count": 1,
      "metadata": {
        "colab": {
          "base_uri": "https://localhost:8080/"
        },
        "id": "T8BlMe78qQX6",
        "outputId": "a4c914c4-a3ac-4814-cdce-7a74a4d90f56"
      },
      "outputs": [
        {
          "output_type": "stream",
          "name": "stdout",
          "text": [
            "Base de datos \n"
          ]
        }
      ],
      "source": [
        "def basededatos():\n",
        "  '''Base de datos '''\n",
        "#https://archive.ics.uci.edu/ml/datasets/wine\n",
        "print(basededatos.__doc__)\n"
      ]
    },
    {
      "cell_type": "code",
      "source": [
        "def librerias1():\n",
        "  '''Uso de librerias '''\n",
        "from sklearn import datasets\n",
        "from sklearn.model_selection import train_test_split\n",
        "from sklearn import svm\n",
        "from sklearn import metrics\n",
        "import pandas as pd\n",
        "import sklearn.metrics \n",
        "import pandas as pd\n",
        "import seaborn as sn\n",
        "import matplotlib.pyplot as plt\n",
        "print(librerias1.__doc__)"
      ],
      "metadata": {
        "colab": {
          "base_uri": "https://localhost:8080/"
        },
        "id": "u-eeQj_qrtEg",
        "outputId": "5aaf07d5-fb67-4ddc-9f5d-8aa08a399e2e"
      },
      "execution_count": 2,
      "outputs": [
        {
          "output_type": "stream",
          "name": "stdout",
          "text": [
            "Uso de librerias \n"
          ]
        }
      ]
    },
    {
      "cell_type": "code",
      "source": [
        "def cargardataset():\n",
        "  '''carga de datos del vino'''\n",
        "df = datasets.load_wine()\n",
        "print(cargardataset.__doc__)\n"
      ],
      "metadata": {
        "colab": {
          "base_uri": "https://localhost:8080/"
        },
        "id": "G5oVhFHKtKPm",
        "outputId": "7810eef0-aff9-4cd0-8f88-153da660ff03"
      },
      "execution_count": 3,
      "outputs": [
        {
          "output_type": "stream",
          "name": "stdout",
          "text": [
            "carga de datos del vino\n"
          ]
        }
      ]
    }
  ]
}