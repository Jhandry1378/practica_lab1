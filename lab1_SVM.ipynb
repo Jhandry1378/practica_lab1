{
  "nbformat": 4,
  "nbformat_minor": 0,
  "metadata": {
    "colab": {
      "name": "lab1_SVM.ipynb",
      "provenance": []
    },
    "kernelspec": {
      "name": "python3",
      "display_name": "Python 3"
    },
    "language_info": {
      "name": "python"
    }
  },
  "cells": [
    {
      "cell_type": "code",
      "execution_count": 1,
      "metadata": {
        "colab": {
          "base_uri": "https://localhost:8080/"
        },
        "id": "T8BlMe78qQX6",
        "outputId": "a4c914c4-a3ac-4814-cdce-7a74a4d90f56"
      },
      "outputs": [
        {
          "output_type": "stream",
          "name": "stdout",
          "text": [
            "Base de datos \n"
          ]
        }
      ],
      "source": [
        "def basededatos():\n",
        "  '''Base de datos '''\n",
        "#https://archive.ics.uci.edu/ml/datasets/wine\n",
        "print(basededatos.__doc__)\n"
      ]
    },
    {
      "cell_type": "code",
      "source": [
        "def librerias1():\n",
        "  '''Uso de librerias '''\n",
        "from sklearn import datasets\n",
        "from sklearn.model_selection import train_test_split\n",
        "from sklearn import svm\n",
        "from sklearn import metrics\n",
        "import pandas as pd\n",
        "import sklearn.metrics \n",
        "import pandas as pd\n",
        "import seaborn as sn\n",
        "import matplotlib.pyplot as plt\n",
        "print(librerias1.__doc__)"
      ],
      "metadata": {
        "colab": {
          "base_uri": "https://localhost:8080/"
        },
        "id": "u-eeQj_qrtEg",
        "outputId": "5aaf07d5-fb67-4ddc-9f5d-8aa08a399e2e"
      },
      "execution_count": 2,
      "outputs": [
        {
          "output_type": "stream",
          "name": "stdout",
          "text": [
            "Uso de librerias \n"
          ]
        }
      ]
    },
    {
      "cell_type": "code",
      "source": [
        "def cargardataset():\n",
        "  '''carga de datos del vino'''\n",
        "df = datasets.load_wine()\n",
        "print(cargardataset.__doc__)\n"
      ],
      "metadata": {
        "colab": {
          "base_uri": "https://localhost:8080/"
        },
        "id": "G5oVhFHKtKPm",
        "outputId": "7810eef0-aff9-4cd0-8f88-153da660ff03"
      },
      "execution_count": 3,
      "outputs": [
        {
          "output_type": "stream",
          "name": "stdout",
          "text": [
            "carga de datos del vino\n"
          ]
        }
      ]
    },
    {
      "cell_type": "code",
      "source": [
        "def llave():\n",
        "    '''\\nllave'''\n",
        "df.keys()\n",
        "print(df.keys(),llave.__doc__ )"
      ],
      "metadata": {
        "colab": {
          "base_uri": "https://localhost:8080/"
        },
        "id": "sbV7eacXt0hn",
        "outputId": "eef30048-8f13-40ee-8dcd-0be8a9ea046d"
      },
      "execution_count": 4,
      "outputs": [
        {
          "output_type": "stream",
          "name": "stdout",
          "text": [
            "dict_keys(['data', 'target', 'frame', 'target_names', 'DESCR', 'feature_names']) \n",
            "llave\n"
          ]
        }
      ]
    },
    {
      "cell_type": "code",
      "source": [
        "def contenido():\n",
        "  '''Ver el nombre de cada una de las caracteristicas'''\n",
        "print(\"Features:\\n\", df.feature_names)\n",
        "print(\"Label:\\n\", df.target_names)\n",
        "print(\"Shape:\\n\", df.data.shape)\n",
        "print(\"Top ten records:\\n\", df.data[0:5])\n",
        "print(contenido.__doc__)"
      ],
      "metadata": {
        "colab": {
          "base_uri": "https://localhost:8080/"
        },
        "id": "NpfV8P1GuW7f",
        "outputId": "a7894f9b-5c6a-453a-ac92-2545c707a1f1"
      },
      "execution_count": 5,
      "outputs": [
        {
          "output_type": "stream",
          "name": "stdout",
          "text": [
            "Features:\n",
            " ['alcohol', 'malic_acid', 'ash', 'alcalinity_of_ash', 'magnesium', 'total_phenols', 'flavanoids', 'nonflavanoid_phenols', 'proanthocyanins', 'color_intensity', 'hue', 'od280/od315_of_diluted_wines', 'proline']\n",
            "Label:\n",
            " ['class_0' 'class_1' 'class_2']\n",
            "Shape:\n",
            " (178, 13)\n",
            "Top ten records:\n",
            " [[1.423e+01 1.710e+00 2.430e+00 1.560e+01 1.270e+02 2.800e+00 3.060e+00\n",
            "  2.800e-01 2.290e+00 5.640e+00 1.040e+00 3.920e+00 1.065e+03]\n",
            " [1.320e+01 1.780e+00 2.140e+00 1.120e+01 1.000e+02 2.650e+00 2.760e+00\n",
            "  2.600e-01 1.280e+00 4.380e+00 1.050e+00 3.400e+00 1.050e+03]\n",
            " [1.316e+01 2.360e+00 2.670e+00 1.860e+01 1.010e+02 2.800e+00 3.240e+00\n",
            "  3.000e-01 2.810e+00 5.680e+00 1.030e+00 3.170e+00 1.185e+03]\n",
            " [1.437e+01 1.950e+00 2.500e+00 1.680e+01 1.130e+02 3.850e+00 3.490e+00\n",
            "  2.400e-01 2.180e+00 7.800e+00 8.600e-01 3.450e+00 1.480e+03]\n",
            " [1.324e+01 2.590e+00 2.870e+00 2.100e+01 1.180e+02 2.800e+00 2.690e+00\n",
            "  3.900e-01 1.820e+00 4.320e+00 1.040e+00 2.930e+00 7.350e+02]]\n",
            "Ver el nombre de cada una de las caracteristicas\n"
          ]
        }
      ]
    },
    {
      "cell_type": "code",
      "source": [
        "df.DESCR"
      ],
      "metadata": {
        "id": "qNU9D7lhwh8O"
      },
      "execution_count": null,
      "outputs": []
    },
    {
      "cell_type": "code",
      "source": [
        "def caract():\n",
        "  '''Ver el nombre de cada una de las caracteristicas'''\n",
        "df.target_names, df.feature_names\n",
        "print(df.target_names, df.feature_names, caract.__doc__)"
      ],
      "metadata": {
        "colab": {
          "base_uri": "https://localhost:8080/"
        },
        "id": "FIis1-O4vLuI",
        "outputId": "0026914f-ffd6-4c74-cf8a-797aa650cb44"
      },
      "execution_count": 13,
      "outputs": [
        {
          "output_type": "stream",
          "name": "stdout",
          "text": [
            "['class_0' 'class_1' 'class_2'] ['alcohol', 'malic_acid', 'ash', 'alcalinity_of_ash', 'magnesium', 'total_phenols', 'flavanoids', 'nonflavanoid_phenols', 'proanthocyanins', 'color_intensity', 'hue', 'od280/od315_of_diluted_wines', 'proline'] Ver el nombre de cada una de las caracteristicas\n"
          ]
        }
      ]
    },
    {
      "cell_type": "code",
      "source": [
        ""
      ],
      "metadata": {
        "id": "QxjPm8towc4W"
      },
      "execution_count": 16,
      "outputs": []
    },
    {
      "cell_type": "code",
      "source": [
        "def entrenam():\n",
        "  '''\\n El 70% de los datos se entrena y el 30 % es de prueba'''\n",
        "X=df.data\n",
        "y=df.target\n",
        "X_train, X_test, y_train, y_test = train_test_split(X,y, test_size=0.3, random_state=109)\n",
        "X_train.size\n",
        "print(X_train.size, entrenam.__doc__)"
      ],
      "metadata": {
        "colab": {
          "base_uri": "https://localhost:8080/"
        },
        "id": "vevQ7O00vtQO",
        "outputId": "e7b889f3-f5a6-4058-f7aa-9a38c318ed99"
      },
      "execution_count": 18,
      "outputs": [
        {
          "output_type": "stream",
          "name": "stdout",
          "text": [
            "1612 \n",
            " El 70% de los datos se entrena y el 30 % es de prueba\n"
          ]
        }
      ]
    }
  ]
}